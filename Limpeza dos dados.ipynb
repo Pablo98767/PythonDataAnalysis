{
  "nbformat": 4,
  "nbformat_minor": 0,
  "metadata": {
    "colab": {
      "private_outputs": true,
      "provenance": [],
      "mount_file_id": "https://github.com/Pablo98767/PythonDataAnalysis/blob/main/Limpeza%20dos%20dados.ipynb",
      "authorship_tag": "ABX9TyO2Cy9FXyIEQWV583Igpc39",
      "include_colab_link": true
    },
    "kernelspec": {
      "name": "python3",
      "display_name": "Python 3"
    },
    "language_info": {
      "name": "python"
    }
  },
  "cells": [
    {
      "cell_type": "markdown",
      "metadata": {
        "id": "view-in-github",
        "colab_type": "text"
      },
      "source": [
        "<a href=\"https://colab.research.google.com/github/Pablo98767/PythonDataAnalysis/blob/main/Limpeza%20dos%20dados.ipynb\" target=\"_parent\"><img src=\"https://colab.research.google.com/assets/colab-badge.svg\" alt=\"Open In Colab\"/></a>"
      ]
    },
    {
      "cell_type": "code",
      "execution_count": null,
      "metadata": {
        "id": "IwXtdzH4HOkt"
      },
      "outputs": [],
      "source": [
        "import pandas as pd"
      ]
    },
    {
      "cell_type": "code",
      "source": [
        "base  = pd.read_excel('/content/drive/MyDrive/07-04 - Limpeza de Dados para Projeto de Ciência de Dados/ChavesClientes.xlsx', sheet_name=\"base\")"
      ],
      "metadata": {
        "id": "mVGad_pVJuHX"
      },
      "execution_count": null,
      "outputs": []
    },
    {
      "cell_type": "code",
      "source": [
        "base.head()"
      ],
      "metadata": {
        "id": "nPVqK9D5KJ2b"
      },
      "execution_count": null,
      "outputs": []
    },
    {
      "cell_type": "markdown",
      "source": [
        "Verificando a cardinalidade desses dados"
      ],
      "metadata": {
        "id": "nz7q-LEaKZP7"
      }
    },
    {
      "cell_type": "code",
      "source": [
        "base.groupby([\"Pagamento\",\"ChaveSituacao\"])[\"Pagamento\"].count()"
      ],
      "metadata": {
        "id": "MhztV8oWKXvD"
      },
      "execution_count": null,
      "outputs": []
    },
    {
      "cell_type": "markdown",
      "source": [
        " Ao mapear com o responsável pela área, ele informou o que representa cada coluna:\n",
        "    - ChaveSituacao: formado por:\n",
        "        - Idade do cliente (a idade mínima para ser cliente é 18 anos)\n",
        "        - Gênero do cliente:\n",
        "            - M: Masculino\n",
        "            - F: Feminino\n",
        "        - Estado civil do cliente:\n",
        "            - S: solteiro\n",
        "            - C: casado\n",
        "            - D: divorciado\n",
        "            - V: viúvo\n",
        "    - ClassRisco: formado por:\n",
        "        - Classificação do cliente como (A,B,C) e indicador (+,- ou vazio)\n",
        "        - Cor do cliente de acordo com um modelo de churn interno da empresa\n",
        "    - CatCliente: formado por:\n",
        "        - Categoria do cartão: qual o tipo de cartão do cliente:\n",
        "            - Basic\n",
        "            - Black\n",
        "            - Platinum\n",
        "        - Categoria VIP: categoria do cliente VIP (caso exista)\n",
        "            - Alpha\n",
        "            - Beta\n",
        "\n"
      ],
      "metadata": {
        "id": "OP0sSHXJLutx"
      }
    },
    {
      "cell_type": "markdown",
      "source": [
        "**Podemos começar tratando simplesmente separando a string da coluna**"
      ],
      "metadata": {
        "id": "oqi7AY32NmOr"
      }
    },
    {
      "cell_type": "code",
      "source": [
        "texto = '32FC'"
      ],
      "metadata": {
        "id": "VNz9tcrjNp1p"
      },
      "execution_count": null,
      "outputs": []
    },
    {
      "cell_type": "code",
      "source": [
        "texto[2:3]"
      ],
      "metadata": {
        "id": "2RiAcqy-Ntdy"
      },
      "execution_count": null,
      "outputs": []
    },
    {
      "cell_type": "code",
      "source": [
        "base['Idade'] = base.ChaveSituacao.str[:2]\n",
        "base['Genero'] = base.ChaveSituacao.str[2:3]\n",
        "base['EstadoCivil'] = base.ChaveSituacao.str[-1]"
      ],
      "metadata": {
        "id": "tzzXYsKzN5Pq"
      },
      "execution_count": null,
      "outputs": []
    },
    {
      "cell_type": "code",
      "source": [
        "base.head()\n"
      ],
      "metadata": {
        "id": "bTqxaYVAN7R5"
      },
      "execution_count": null,
      "outputs": []
    },
    {
      "cell_type": "code",
      "source": [
        "base.groupby([\"Pagamento\", \"EstadoCivil\",])[\"Pagamento\"].count()"
      ],
      "metadata": {
        "id": "XGoDj9D8Nex9"
      },
      "execution_count": null,
      "outputs": []
    },
    {
      "cell_type": "markdown",
      "source": [
        "Podemos fazer o split (divisão) de um valor baseado em um demilitador"
      ],
      "metadata": {
        "id": "DtFH_V3kN8Au"
      }
    },
    {
      "cell_type": "code",
      "source": [
        "texto = 'Basic-Alpha'"
      ],
      "metadata": {
        "id": "582ejI1sN1Yj"
      },
      "execution_count": null,
      "outputs": []
    },
    {
      "cell_type": "code",
      "source": [
        "texto.split('-') "
      ],
      "metadata": {
        "id": "6OCmX5jiOOQZ"
      },
      "execution_count": null,
      "outputs": []
    },
    {
      "cell_type": "code",
      "source": [
        "\n",
        "base['Categoria'] = base.CatCliente.str.split('-').str.get(0)"
      ],
      "metadata": {
        "id": "wCnHE6poO9Nq"
      },
      "execution_count": null,
      "outputs": []
    },
    {
      "cell_type": "code",
      "source": [
        "base['Categoria'] = base.CatCliente.str.split('-').str.get(0)"
      ],
      "metadata": {
        "id": "HisyQXxcPIn3"
      },
      "execution_count": null,
      "outputs": []
    },
    {
      "cell_type": "code",
      "source": [
        "base.head()"
      ],
      "metadata": {
        "id": "Tu6Z9wwIPNuf"
      },
      "execution_count": null,
      "outputs": []
    },
    {
      "cell_type": "code",
      "source": [
        "import re"
      ],
      "metadata": {
        "id": "TC-XkwyfPlcK"
      },
      "execution_count": null,
      "outputs": []
    },
    {
      "cell_type": "code",
      "source": [
        "#Buscando pelo nome lucas.\n",
        "re.findall('Lucas','meu nome é Lucas')"
      ],
      "metadata": {
        "id": "SJBp2ZA5PsGt"
      },
      "execution_count": null,
      "outputs": []
    },
    {
      "cell_type": "code",
      "source": [
        "# Buscando Lucas no texto abaixo\n",
        "re.findall('Lucas','meu nome é Lucas')"
      ],
      "metadata": {
        "id": "qPuni6V6QCSW"
      },
      "execution_count": null,
      "outputs": []
    },
    {
      "cell_type": "code",
      "source": [
        "# Verificando se começa ou termina com um caracter (usando ˆ, $)\n",
        "re.findall('^Lucas','meu nome é Lucas')"
      ],
      "metadata": {
        "id": "dZcMOeQUQMdQ"
      },
      "execution_count": null,
      "outputs": []
    },
    {
      "cell_type": "code",
      "source": [
        "# Verificando se existe parte da palavra Lucas (usando *, +, ?)\n",
        "re.findall('Lu+cas','meu nome é Lucas')"
      ],
      "metadata": {
        "id": "Gds9JW5IQfNl"
      },
      "execution_count": null,
      "outputs": []
    },
    {
      "cell_type": "code",
      "source": [
        "# Buscando por letras maiúsculas\n",
        "re.findall('[A-Z]+\\w{4}','meu nome é Lucas')"
      ],
      "metadata": {
        "id": "HUVypGQLQhxN"
      },
      "execution_count": null,
      "outputs": []
    },
    {
      "cell_type": "code",
      "source": [
        "base.head()"
      ],
      "metadata": {
        "id": "XASBLuOhQjz0"
      },
      "execution_count": null,
      "outputs": []
    },
    {
      "cell_type": "code",
      "source": [
        "# Buscando agora a classificação do cliente dentro da coluna \"ClassRisco\"\n",
        "re.findall('^[A-Z][^A-Za-z]?','AAmarelo')"
      ],
      "metadata": {
        "id": "z-WxVB7kQxn5"
      },
      "execution_count": null,
      "outputs": []
    },
    {
      "cell_type": "code",
      "source": [
        "# Buscando agora a classificação do cliente dentro da coluna \"ClassRisco\"\n",
        "re.findall('^[A-Z][^A-Za-z]?','AAmarelo')"
      ],
      "metadata": {
        "id": "_ThY_ckdQ40D"
      },
      "execution_count": null,
      "outputs": []
    },
    {
      "cell_type": "code",
      "source": [
        "base['Risco'] = base.ClassRisco.apply(lambda x: re.findall('^[A-Z][^A-Za-z]?',x)[0])"
      ],
      "metadata": {
        "id": "sjUf5IcXSHLk"
      },
      "execution_count": null,
      "outputs": []
    },
    {
      "cell_type": "code",
      "source": [
        "base.head()"
      ],
      "metadata": {
        "id": "4TZFoPTJSiKR"
      },
      "execution_count": null,
      "outputs": []
    },
    {
      "cell_type": "code",
      "source": [
        "base.info()"
      ],
      "metadata": {
        "id": "5XxeCei-SpYR"
      },
      "execution_count": null,
      "outputs": []
    },
    {
      "cell_type": "markdown",
      "source": [
        "\n",
        "**Transformando a coluna 'Idade' em numérico**\n"
      ],
      "metadata": {
        "id": "luHsSm-vSxIl"
      }
    },
    {
      "cell_type": "code",
      "source": [
        "base['Idade'] = pd.to_numeric(base['Idade'])"
      ],
      "metadata": {
        "id": "wWdT-lA-S1pC"
      },
      "execution_count": null,
      "outputs": []
    },
    {
      "cell_type": "code",
      "source": [
        "base.info()"
      ],
      "metadata": {
        "id": "Gx68CdBDS71u"
      },
      "execution_count": null,
      "outputs": []
    },
    {
      "cell_type": "markdown",
      "source": [
        "**Por fim, tratando os valores vazios**"
      ],
      "metadata": {
        "id": "xXXLlxx2TEqg"
      }
    },
    {
      "cell_type": "code",
      "source": [
        "base.loc[base.CatVIP.isnull(),\"CatVIP\"]=\"Comum\"\n"
      ],
      "metadata": {
        "id": "MPMXf02NTGlq"
      },
      "execution_count": null,
      "outputs": []
    },
    {
      "cell_type": "markdown",
      "source": [
        "**Agora podemos criar uma nova base apenas com as colunas que acabamos de criar**\n"
      ],
      "metadata": {
        "id": "9nqGq-0rTkJX"
      }
    },
    {
      "cell_type": "code",
      "source": [
        "base.groupby([\"Pagamento\",\"Risco\"])[\"Pagamento\"].count()"
      ],
      "metadata": {
        "id": "TCv9037NTlc_"
      },
      "execution_count": null,
      "outputs": []
    }
  ]
}