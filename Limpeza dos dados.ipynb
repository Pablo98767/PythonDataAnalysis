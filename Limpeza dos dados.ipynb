{
  "nbformat": 4,
  "nbformat_minor": 0,
  "metadata": {
    "colab": {
      "private_outputs": true,
      "provenance": [],
      "mount_file_id": "https://github.com/Pablo98767/PythonDataAnalysis/blob/main/Limpeza%20dos%20dados.ipynb",
      "authorship_tag": "ABX9TyMZ8kFKVP4nDcIwINHk3Yqs",
      "include_colab_link": true
    },
    "kernelspec": {
      "name": "python3",
      "display_name": "Python 3"
    },
    "language_info": {
      "name": "python"
    }
  },
  "cells": [
    {
      "cell_type": "markdown",
      "metadata": {
        "id": "view-in-github",
        "colab_type": "text"
      },
      "source": [
        "<a href=\"https://colab.research.google.com/github/Pablo98767/PythonDataAnalysis/blob/main/Limpeza%20dos%20dados.ipynb\" target=\"_parent\"><img src=\"https://colab.research.google.com/assets/colab-badge.svg\" alt=\"Open In Colab\"/></a>"
      ]
    },
    {
      "cell_type": "code",
      "execution_count": null,
      "metadata": {
        "id": "IwXtdzH4HOkt"
      },
      "outputs": [],
      "source": [
        "import pandas as pd"
      ]
    },
    {
      "cell_type": "code",
      "source": [
        "base  = pd.read_excel('/content/drive/MyDrive/07-04 - Limpeza de Dados para Projeto de Ciência de Dados/ChavesClientes.xlsx', sheet_name=\"base\")"
      ],
      "metadata": {
        "id": "mVGad_pVJuHX"
      },
      "execution_count": null,
      "outputs": []
    },
    {
      "cell_type": "code",
      "source": [
        "base.head()"
      ],
      "metadata": {
        "id": "nPVqK9D5KJ2b"
      },
      "execution_count": null,
      "outputs": []
    },
    {
      "cell_type": "markdown",
      "source": [
        "Verificando a cardinaliedade desses dados"
      ],
      "metadata": {
        "id": "nz7q-LEaKZP7"
      }
    },
    {
      "cell_type": "code",
      "source": [],
      "metadata": {
        "id": "MhztV8oWKXvD"
      },
      "execution_count": null,
      "outputs": []
    }
  ]
}