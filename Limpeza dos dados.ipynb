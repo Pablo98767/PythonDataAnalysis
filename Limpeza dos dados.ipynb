{
  "nbformat": 4,
  "nbformat_minor": 0,
  "metadata": {
    "colab": {
      "private_outputs": true,
      "provenance": [],
      "mount_file_id": "https://github.com/Pablo98767/PythonDataAnalysis/blob/main/Limpeza%20dos%20dados.ipynb",
      "authorship_tag": "ABX9TyPBJohukQLxzJJEy+hLiiAi",
      "include_colab_link": true
    },
    "kernelspec": {
      "name": "python3",
      "display_name": "Python 3"
    },
    "language_info": {
      "name": "python"
    }
  },
  "cells": [
    {
      "cell_type": "markdown",
      "metadata": {
        "id": "view-in-github",
        "colab_type": "text"
      },
      "source": [
        "<a href=\"https://colab.research.google.com/github/Pablo98767/PythonDataAnalysis/blob/main/Limpeza%20dos%20dados.ipynb\" target=\"_parent\"><img src=\"https://colab.research.google.com/assets/colab-badge.svg\" alt=\"Open In Colab\"/></a>"
      ]
    },
    {
      "cell_type": "code",
      "execution_count": null,
      "metadata": {
        "id": "IwXtdzH4HOkt"
      },
      "outputs": [],
      "source": [
        "import pandas as pd"
      ]
    },
    {
      "cell_type": "code",
      "source": [
        "base  = pd.read_excel('/content/drive/MyDrive/07-04 - Limpeza de Dados para Projeto de Ciência de Dados/ChavesClientes.xlsx', sheet_name=\"base\")"
      ],
      "metadata": {
        "id": "mVGad_pVJuHX"
      },
      "execution_count": null,
      "outputs": []
    },
    {
      "cell_type": "code",
      "source": [
        "base.head()"
      ],
      "metadata": {
        "id": "nPVqK9D5KJ2b"
      },
      "execution_count": null,
      "outputs": []
    },
    {
      "cell_type": "markdown",
      "source": [
        "Verificando a cardinalidade desses dados"
      ],
      "metadata": {
        "id": "nz7q-LEaKZP7"
      }
    },
    {
      "cell_type": "code",
      "source": [
        "base.groupby([\"Pagamento\",\"ChaveSituacao\"])[\"Pagamento\"].count()"
      ],
      "metadata": {
        "id": "MhztV8oWKXvD"
      },
      "execution_count": null,
      "outputs": []
    },
    {
      "cell_type": "markdown",
      "source": [
        " Ao mapear com o responsável pela área, ele informou o que representa cada coluna:\n",
        "    - ChaveSituacao: formado por:\n",
        "        - Idade do cliente (a idade mínima para ser cliente é 18 anos)\n",
        "        - Gênero do cliente:\n",
        "            - M: Masculino\n",
        "            - F: Feminino\n",
        "        - Estado civil do cliente:\n",
        "            - S: solteiro\n",
        "            - C: casado\n",
        "            - D: divorciado\n",
        "            - V: viúvo\n",
        "    - ClassRisco: formado por:\n",
        "        - Classificação do cliente como (A,B,C) e indicador (+,- ou vazio)\n",
        "        - Cor do cliente de acordo com um modelo de churn interno da empresa\n",
        "    - CatCliente: formado por:\n",
        "        - Categoria do cartão: qual o tipo de cartão do cliente:\n",
        "            - Basic\n",
        "            - Black\n",
        "            - Platinum\n",
        "        - Categoria VIP: categoria do cliente VIP (caso exista)\n",
        "            - Alpha\n",
        "            - Beta\n",
        "\n"
      ],
      "metadata": {
        "id": "OP0sSHXJLutx"
      }
    },
    {
      "cell_type": "markdown",
      "source": [
        "**Podemos começar tratando simplesmente separando a string da coluna**"
      ],
      "metadata": {
        "id": "oqi7AY32NmOr"
      }
    },
    {
      "cell_type": "code",
      "source": [
        "texto = '32FC'"
      ],
      "metadata": {
        "id": "VNz9tcrjNp1p"
      },
      "execution_count": null,
      "outputs": []
    },
    {
      "cell_type": "code",
      "source": [
        "texto[2:3]"
      ],
      "metadata": {
        "id": "2RiAcqy-Ntdy"
      },
      "execution_count": null,
      "outputs": []
    },
    {
      "cell_type": "code",
      "source": [
        "base['Idade'] = base.ChaveSituacao.str[:2]\n",
        "base['Genero'] = base.ChaveSituacao.str[2:3]\n",
        "base['EstadoCivil'] = base.ChaveSituacao.str[-1]"
      ],
      "metadata": {
        "id": "tzzXYsKzN5Pq"
      },
      "execution_count": null,
      "outputs": []
    },
    {
      "cell_type": "code",
      "source": [
        "base.head()\n"
      ],
      "metadata": {
        "id": "bTqxaYVAN7R5"
      },
      "execution_count": null,
      "outputs": []
    }
  ]
}